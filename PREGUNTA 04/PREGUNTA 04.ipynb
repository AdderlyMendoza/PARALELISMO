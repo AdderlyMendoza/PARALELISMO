{
 "cells": [
  {
   "cell_type": "code",
   "execution_count": null,
   "metadata": {},
   "outputs": [],
   "source": [
    "\"\"\"\n",
    "PREGUNTA 04:\n",
    "Utilizando hilos o multihilos, dividir una colección de imágenes en partes más pequeñas de dimensiones especificadas.\n",
    "\"\"\""
   ]
  },
  {
   "cell_type": "code",
   "execution_count": 11,
   "metadata": {},
   "outputs": [],
   "source": [
    "# hilos\n",
    "from threading import Thread\n",
    "import time\n",
    "\n",
    "# img\n",
    "from PIL import Image"
   ]
  },
  {
   "cell_type": "code",
   "execution_count": 12,
   "metadata": {},
   "outputs": [],
   "source": [
    "def dividir(x_r, y_r):\n",
    "    image = Image.open('entrada img/foto.png')\n",
    "    img_size = image.size\n",
    "    coordenada_x = img_size[0]\n",
    "    coordenada_y = img_size[1]\n",
    "    suma = int(x_r + y_r)\n",
    "    conta_fila = 0\n",
    "    conta_colu = 0\n",
    "    conta = 0\n",
    "    x = 0\n",
    "    y = 0\n",
    "    x2 = x_r\n",
    "    y2 = y_r\n",
    "    \n",
    "    for i in range(suma):\n",
    "        if conta_colu > int( coordenada_y / y_r ):  \n",
    "            break\n",
    "            \n",
    "        conta = conta + 1\n",
    "        if conta_fila < int( coordenada_x / x_r ):  # COLUMNAS\n",
    "            img_salida = image.crop( (x, y, x2, y2) )  # CROP recibe una tupla\n",
    "            \n",
    "            if conta < 10:\n",
    "                salida = \"salida img/img_0\" + str(conta) + \".jpg\"\n",
    "            else:\n",
    "                salida = \"salida img/img_\" + str(conta) + \".jpg\"\n",
    "                \n",
    "            img_salida.save(salida) \n",
    "            x = x + x_r\n",
    "            x2 = x2 + x_r\n",
    "            \n",
    "        else:\n",
    "            x = 0\n",
    "            y = y + y_r\n",
    "            x2 = x_r\n",
    "            y2 = y2 + y_r\n",
    "            conta_fila = 0\n",
    "            conta_colu = conta_colu + 1\n",
    "            conta = conta - 1\n",
    "               \n",
    "        conta_fila = conta_fila + 1\n",
    "        "
   ]
  },
  {
   "cell_type": "code",
   "execution_count": 16,
   "metadata": {},
   "outputs": [],
   "source": [
    "if __name__ == '__main__':\n",
    "    x = 70\n",
    "    y = 60\n",
    "    hilo = Thread(target= dividir, args = (x, y, ) )\n",
    "    hilo.start()"
   ]
  },
  {
   "cell_type": "code",
   "execution_count": null,
   "metadata": {},
   "outputs": [],
   "source": []
  },
  {
   "cell_type": "code",
   "execution_count": null,
   "metadata": {},
   "outputs": [],
   "source": []
  },
  {
   "cell_type": "code",
   "execution_count": null,
   "metadata": {},
   "outputs": [],
   "source": []
  },
  {
   "cell_type": "code",
   "execution_count": null,
   "metadata": {},
   "outputs": [],
   "source": []
  }
 ],
 "metadata": {
  "kernelspec": {
   "display_name": "Python 3",
   "language": "python",
   "name": "python3"
  },
  "language_info": {
   "codemirror_mode": {
    "name": "ipython",
    "version": 3
   },
   "file_extension": ".py",
   "mimetype": "text/x-python",
   "name": "python",
   "nbconvert_exporter": "python",
   "pygments_lexer": "ipython3",
   "version": "3.7.6"
  }
 },
 "nbformat": 4,
 "nbformat_minor": 4
}
