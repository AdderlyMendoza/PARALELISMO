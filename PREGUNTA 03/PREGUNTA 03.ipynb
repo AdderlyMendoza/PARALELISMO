{
 "cells": [
  {
   "cell_type": "code",
   "execution_count": 10,
   "metadata": {},
   "outputs": [],
   "source": [
    "# multihilos\n",
    "from threading import Thread\n",
    "import time\n",
    "\n",
    "# thumbnails\n",
    "from PIL import Image\n"
   ]
  },
  {
   "cell_type": "code",
   "execution_count": 11,
   "metadata": {},
   "outputs": [],
   "source": [
    "def miniatura(ruta_img):\n",
    "    imagen_subida = Image.open(ruta_img)\n",
    "    print(Thread().name, \"-> Tamaño original de la imagen: \", imagen_subida.size)\n",
    "    \n",
    "    imagen_resized = imagen_subida.resize((400, 400))  # DEFINIMOS EL TAMAÑO PARA LA SALIDA\n",
    "    salida = \"salida img/\" + str(ruta_img[12:])\n",
    "    imagen_resized.save(salida)            # EXPORTAMOS LA NUEVA IMAGEN\n",
    "    print(Thread().name, \"-> Tamaño cambiado de la imagen: \", imagen_resized.size)\n"
   ]
  },
  {
   "cell_type": "code",
   "execution_count": 12,
   "metadata": {},
   "outputs": [
    {
     "name": "stdout",
     "output_type": "stream",
     "text": [
      "Thread-22 -> Tamaño original de la imagen:  (1920, 1080)\n",
      "Thread-23 -> Tamaño cambiado de la imagen:  (400, 400)\n",
      "----------------------------------------------------------\n",
      "Thread-24 -> Tamaño original de la imagen:  (225, 225)\n",
      "Thread-25 -> Tamaño cambiado de la imagen:  (400, 400)\n",
      "----------------------------------------------------------\n",
      "Thread-26 -> Tamaño original de la imagen:  (720, 720)\n",
      "Thread-27 -> Tamaño cambiado de la imagen:  (400, 400)\n",
      "----------------------------------------------------------\n",
      "Thread-28 -> Tamaño original de la imagen:  (1080, 587)\n",
      "Thread-29 -> Tamaño cambiado de la imagen:  (400, 400)\n",
      "----------------------------------------------------------\n"
     ]
    }
   ],
   "source": [
    "if __name__ == '__main__':\n",
    "    \n",
    "    funciones = [\"entrada img/cr7.jpg\", \"entrada img/karma.jpg\", \"entrada img/meme.jpg\", \"entrada img/spud.jpg\"]\n",
    "    \n",
    "    hilos = [] # HILOS A EJECUTAR \n",
    "    \n",
    "    for i in funciones:    # INICIALIZAR HILOS\n",
    "        hilo = Thread(target= miniatura, args = (i,) )\n",
    "        hilos.append(hilo)\n",
    "        \n",
    "    for hilo in hilos:      # INICIAR HILOS\n",
    "        hilo.start()\n",
    "        time.sleep(1)\n",
    "        print(\"----------------------------------------------------------\")\n",
    "        \n",
    "    for hilo in hilos:      # ESPERAR HILOS \n",
    "        hilo.join()"
   ]
  },
  {
   "cell_type": "code",
   "execution_count": null,
   "metadata": {},
   "outputs": [],
   "source": []
  },
  {
   "cell_type": "code",
   "execution_count": null,
   "metadata": {},
   "outputs": [],
   "source": []
  }
 ],
 "metadata": {
  "kernelspec": {
   "display_name": "Python 3",
   "language": "python",
   "name": "python3"
  },
  "language_info": {
   "codemirror_mode": {
    "name": "ipython",
    "version": 3
   },
   "file_extension": ".py",
   "mimetype": "text/x-python",
   "name": "python",
   "nbconvert_exporter": "python",
   "pygments_lexer": "ipython3",
   "version": "3.7.6"
  }
 },
 "nbformat": 4,
 "nbformat_minor": 4
}
