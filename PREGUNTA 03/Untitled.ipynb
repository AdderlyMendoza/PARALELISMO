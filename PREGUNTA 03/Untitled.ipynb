{
 "cells": [
  {
   "cell_type": "code",
   "execution_count": 55,
   "metadata": {},
   "outputs": [
    {
     "data": {
      "text/plain": [
       "\" POOL DE HILOS\\nimport logging\\nfrom concurrent.futures import ThreadPoolExecutor\\n\\nlogging.basicConfig(level=logging.DEBUG, format='%(threadName)s: %{message}s')\\n\""
      ]
     },
     "execution_count": 55,
     "metadata": {},
     "output_type": "execute_result"
    }
   ],
   "source": [
    "# multihilos\n",
    "import time\n",
    "from threading import Thread\n",
    "\"\"\" POOL DE HILOS\n",
    "import logging\n",
    "from concurrent.futures import ThreadPoolExecutor\n",
    "\n",
    "logging.basicConfig(level=logging.DEBUG, format='%(threadName)s: %{message}s')\n",
    "\"\"\""
   ]
  },
  {
   "cell_type": "code",
   "execution_count": 56,
   "metadata": {},
   "outputs": [],
   "source": [
    "def super_task(a, b):\n",
    "    #time.sleep(1)\n",
    "    #logging.info(f'Terminamos la tarea compleja: {a} - {b}!!\\n')\n",
    "    print(\"Ejectando 1: \", a, b)"
   ]
  },
  {
   "cell_type": "code",
   "execution_count": 57,
   "metadata": {},
   "outputs": [],
   "source": [
    "def hola():\n",
    "    #logging.info('Hola desde un thread dentro de un pool')\n",
    "    print(\"Ejecutando 2 xd\")"
   ]
  },
  {
   "cell_type": "code",
   "execution_count": 58,
   "metadata": {},
   "outputs": [
    {
     "name": "stdout",
     "output_type": "stream",
     "text": [
      "Ejectando 1:  10 20\n",
      "Ejecutando 2 xd\n"
     ]
    }
   ],
   "source": [
    "if __name__ == '__main__':\n",
    "    hilos = []\n",
    "    \n",
    "    t  = Thread(target= super_task, args=(10,20))\n",
    "    hilos.append(t)\n",
    "    t1 = Thread(target= hola)\n",
    "    hilos.append(t1)\n",
    "    \n",
    "    for hilo in hilos:\n",
    "        hilo.start()\n",
    "        \n",
    "        "
   ]
  },
  {
   "cell_type": "code",
   "execution_count": null,
   "metadata": {},
   "outputs": [],
   "source": []
  }
 ],
 "metadata": {
  "kernelspec": {
   "display_name": "Python 3",
   "language": "python",
   "name": "python3"
  },
  "language_info": {
   "codemirror_mode": {
    "name": "ipython",
    "version": 3
   },
   "file_extension": ".py",
   "mimetype": "text/x-python",
   "name": "python",
   "nbconvert_exporter": "python",
   "pygments_lexer": "ipython3",
   "version": "3.7.6"
  }
 },
 "nbformat": 4,
 "nbformat_minor": 4
}
