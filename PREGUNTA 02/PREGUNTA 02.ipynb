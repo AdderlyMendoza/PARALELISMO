{
 "cells": [
  {
   "cell_type": "code",
   "execution_count": null,
   "metadata": {},
   "outputs": [],
   "source": [
    "\"\"\"\n",
    "PROBLEMA 02: \n",
    "Implementar un programa que mediante hilos identifique y clasifique un mensaje enviado. \n",
    "Por ejemplo: Si es un correo electrónico, seleccione y responda que es un correo electrónico. \n",
    "Si es una URL, responda que se trata de una dirección de una página web. \n",
    "En otro caso responda que es un texto plano.\n",
    "\"\"\""
   ]
  },
  {
   "cell_type": "code",
   "execution_count": 107,
   "metadata": {},
   "outputs": [],
   "source": [
    "# Hilos\n",
    "from threading import Thread\n",
    "import time"
   ]
  },
  {
   "cell_type": "code",
   "execution_count": 108,
   "metadata": {},
   "outputs": [],
   "source": [
    "def clasificar_mensaje(mensaje_r):\n",
    "    correo = [\"@gmail.com\", \"@hotmail.com\", \"@est.unap.edu.pe\"]  # Guardar nuestros correos para comprobar\n",
    "    url = \"https://\"\n",
    "    \n",
    "    salida_correo = \"\"\n",
    "    salida_url = \"\"\n",
    "    contador = 0\n",
    "    \n",
    "    for i in mensaje_r:\n",
    "        # ------- URL ------------------------------\n",
    "        salida_url = salida_url + i  # Guarda los datos desde el inicio \n",
    "        if salida_url == url:  # Si llega a saber que es una URL entonces termina el for\n",
    "            break\n",
    "            \n",
    "        # ------- CORREO ---------------------------\n",
    "        if ( i == \"@\"):  # Encuentra el @ y empieza a guardar los datos siguientes en la variable \"salida\" \n",
    "            for _ in mensaje_r[contador:]:\n",
    "                salida_correo = salida_correo + _\n",
    "                \n",
    "        contador = contador + 1\n",
    "    \n",
    "    # VALIDAMOS LOS DATOS\n",
    "    if salida_correo in correo:\n",
    "        print(Thread().name, \"-> Es un correo\")\n",
    "    elif salida_url == url:\n",
    "        print(Thread().name, \"-> Es una URL\")\n",
    "    else:\n",
    "        print(Thread().name, \"-> Es un texto plano\")\n",
    "        "
   ]
  },
  {
   "cell_type": "code",
   "execution_count": 110,
   "metadata": {},
   "outputs": [
    {
     "name": "stdout",
     "output_type": "stream",
     "text": [
      "Thread-23 -> Es un texto plano\n"
     ]
    }
   ],
   "source": [
    "if __name__ == '__main__':\n",
    "    mensaje = \"Texto de prueba xd\"\n",
    "    hilo = Thread(target = clasificar_mensaje, args=(mensaje,))\n",
    "    hilo.start()\n"
   ]
  },
  {
   "cell_type": "code",
   "execution_count": null,
   "metadata": {},
   "outputs": [],
   "source": []
  }
 ],
 "metadata": {
  "kernelspec": {
   "display_name": "Python 3",
   "language": "python",
   "name": "python3"
  },
  "language_info": {
   "codemirror_mode": {
    "name": "ipython",
    "version": 3
   },
   "file_extension": ".py",
   "mimetype": "text/x-python",
   "name": "python",
   "nbconvert_exporter": "python",
   "pygments_lexer": "ipython3",
   "version": "3.7.6"
  }
 },
 "nbformat": 4,
 "nbformat_minor": 4
}
